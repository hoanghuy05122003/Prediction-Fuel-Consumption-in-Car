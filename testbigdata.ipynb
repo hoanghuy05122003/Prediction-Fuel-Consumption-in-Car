{
 "cells": [
  {
   "cell_type": "code",
   "execution_count": 3,
   "metadata": {
    "execution": {
     "iopub.execute_input": "2024-12-03T12:38:40.000358Z",
     "iopub.status.busy": "2024-12-03T12:38:40.000007Z",
     "iopub.status.idle": "2024-12-03T12:38:40.105737Z",
     "shell.execute_reply": "2024-12-03T12:38:40.104572Z",
     "shell.execute_reply.started": "2024-12-03T12:38:40.000320Z"
    },
    "trusted": true
   },
   "outputs": [],
   "source": [
    "from pyspark.sql import SparkSession"
   ]
  },
  {
   "cell_type": "code",
   "execution_count": null,
   "metadata": {
    "execution": {
     "iopub.execute_input": "2024-12-02T06:40:39.048529Z",
     "iopub.status.busy": "2024-12-02T06:40:39.047757Z",
     "iopub.status.idle": "2024-12-02T06:40:39.054444Z",
     "shell.execute_reply": "2024-12-02T06:40:39.052965Z",
     "shell.execute_reply.started": "2024-12-02T06:40:39.048486Z"
    },
    "trusted": true
   },
   "outputs": [],
   "source": [
    "spark = SparkSession.builder.appName(\"Auto-MPG-Efficiency _predictin\").getOrCreate()"
   ]
  },
  {
   "cell_type": "code",
   "execution_count": null,
   "metadata": {
    "execution": {
     "iopub.execute_input": "2024-12-03T12:38:47.527308Z",
     "iopub.status.busy": "2024-12-03T12:38:47.526770Z",
     "iopub.status.idle": "2024-12-03T12:39:22.484909Z",
     "shell.execute_reply": "2024-12-03T12:39:22.482554Z",
     "shell.execute_reply.started": "2024-12-03T12:38:47.527259Z"
    },
    "trusted": true
   },
   "outputs": [
    {
     "name": "stderr",
     "output_type": "stream",
     "text": [
      "                                                                                \r"
     ]
    }
   ],
   "source": [
    "# Đọc tệp CSV bằng Spark\n",
    "df = spark.read.csv('/Reduced-Data.csv', header=True, inferSchema=True)\n"
   ]
  },
  {
   "cell_type": "code",
   "execution_count": 6,
   "metadata": {
    "execution": {
     "iopub.execute_input": "2024-12-03T12:39:32.502647Z",
     "iopub.status.busy": "2024-12-03T12:39:32.501368Z",
     "iopub.status.idle": "2024-12-03T12:39:33.126363Z",
     "shell.execute_reply": "2024-12-03T12:39:33.123622Z",
     "shell.execute_reply.started": "2024-12-03T12:39:32.502589Z"
    },
    "trusted": true
   },
   "outputs": [
    {
     "name": "stdout",
     "output_type": "stream",
     "text": [
      "+---+------+------+------------+---------------+---+--------+-------+---------+-------------+-----------------+-------------------+\n",
      "|  r|m (kg)|    Mt|Ewltp (g/km)|             Ft| Fm|ec (cm3)|ep (KW)|z (Wh/km)|Erwltp (g/km)|Fuel consumption |Electric range (km)|\n",
      "+---+------+------+------------+---------------+---+--------+-------+---------+-------------+-----------------+-------------------+\n",
      "|  1|1337.0|1446.0|       126.0|            lpg|  B|   999.0|   74.0|     NULL|          1.7|              7.8|               NULL|\n",
      "|  1|1670.0|1782.0|       125.0|         petrol|  H|  2487.0|  131.0|     NULL|          0.8|              5.5|               NULL|\n",
      "|  1|2044.0|2187.0|         0.0|       electric|  E|    NULL|  221.0|    172.0|         NULL|             NULL|              440.0|\n",
      "|  1|1493.0|1576.0|       135.0|         petrol|  M|  1199.0|   96.0|     NULL|          2.0|              6.0|               NULL|\n",
      "|  1|1649.0|1814.0|       131.0|         petrol|  H|  1598.0|  132.0|     NULL|         0.59|              5.8|               NULL|\n",
      "|  1|1560.0|1640.0|       118.0|         petrol|  H|  1987.0|  112.0|     NULL|          0.8|              5.2|               NULL|\n",
      "|  1|1290.0|1427.0|       141.0|         petrol|  M|   999.0|   81.0|     NULL|         1.84|              6.2|               NULL|\n",
      "|  1|1725.0|1887.0|       153.0|         diesel|  M|  1950.0|  140.0|     NULL|          1.0|              5.8|               NULL|\n",
      "|  1|1400.0|1494.0|       113.0|         petrol|  H|  1598.0|   69.0|     NULL|          0.6|              5.0|               NULL|\n",
      "|  1|1353.0|1438.0|       131.0|         petrol|  M|  1199.0|   96.0|     NULL|          2.1|              5.8|               NULL|\n",
      "|  1|2054.0|2157.0|         0.0|       electric|  E|    NULL|  378.0|    169.0|         NULL|             NULL|              533.0|\n",
      "|  1|1701.0|1816.0|       125.0|            e85|  H|  2488.0|  112.0|     NULL|         NULL|              5.4|               NULL|\n",
      "|  1|1838.0|1924.0|        28.0|petrol/electric|  P|  1598.0|  133.0|    164.0|         NULL|              1.2|               67.0|\n",
      "|  1|1436.0|1538.0|       106.0|         petrol|  H|  1598.0|   69.0|     NULL|         0.91|              4.7|               NULL|\n",
      "|  1|1233.0|1324.0|       122.0|         petrol|  M|  1199.0|   96.0|     NULL|          2.0|              5.4|               NULL|\n",
      "|  1|1000.0|1099.0|       115.0|         petrol|  H|  1197.0|   61.0|     NULL|         1.84|              5.1|               NULL|\n",
      "|  1|1345.0|1442.0|       133.0|         diesel|  M|  1499.0|   96.0|     NULL|          1.5|              5.1|               NULL|\n",
      "|  1|1623.0|1710.0|         0.0|       electric|  E|    NULL|  100.0|    159.0|         NULL|             NULL|              335.0|\n",
      "|  1|1495.0|1573.0|       110.0|         petrol|  H|  1798.0|   72.0|     NULL|          0.9|              4.9|               NULL|\n",
      "|  1|1483.0|1587.0|       140.0|         petrol|  M|  1199.0|   96.0|     NULL|          2.1|              6.2|               NULL|\n",
      "|  1| 991.0|1080.0|       116.0|         petrol|  M|   999.0|   48.0|     NULL|         NULL|              5.1|               NULL|\n",
      "|  1|1342.0|1457.0|       141.0|         petrol|  M|  1332.0|  110.0|     NULL|         1.88|              6.2|               NULL|\n",
      "|  1|1504.0|1590.0|       142.0|         diesel|  M|  1499.0|   96.0|     NULL|          1.5|              5.4|               NULL|\n",
      "|  1|1120.0|1238.0|       126.0|         petrol|  M|  1197.0|   61.0|     NULL|         1.03|              5.6|               NULL|\n",
      "|  1|1360.0|1488.0|       119.0|         petrol|  H|   999.0|   81.0|     NULL|         NULL|              5.3|               NULL|\n",
      "|  1|2495.0|2703.0|        20.0|petrol/electric|  P|  2998.0|  230.0|    243.0|         NULL|              0.9|              104.0|\n",
      "|  1|1602.0|1738.0|       133.0|         diesel|  H|  1598.0|  100.0|     NULL|         1.57|              5.1|               NULL|\n",
      "|  1|1711.0|1823.0|         0.0|       electric|  E|    NULL|  160.0|    161.0|         NULL|             NULL|              436.0|\n",
      "|  1|1451.0|1561.0|       160.0|         petrol|  M|  1984.0|  180.0|     NULL|         1.14|              7.1|               NULL|\n",
      "|  1|1262.0|1365.0|       133.0|         petrol|  M|   999.0|   84.0|     NULL|         1.56|              5.9|               NULL|\n",
      "+---+------+------+------------+---------------+---+--------+-------+---------+-------------+-----------------+-------------------+\n",
      "only showing top 30 rows\n",
      "\n"
     ]
    }
   ],
   "source": [
    "df.show(30)"
   ]
  },
  {
   "cell_type": "code",
   "execution_count": 7,
   "metadata": {
    "execution": {
     "iopub.execute_input": "2024-12-03T12:39:36.960787Z",
     "iopub.status.busy": "2024-12-03T12:39:36.960380Z",
     "iopub.status.idle": "2024-12-03T12:39:36.969213Z",
     "shell.execute_reply": "2024-12-03T12:39:36.967934Z",
     "shell.execute_reply.started": "2024-12-03T12:39:36.960753Z"
    },
    "trusted": true
   },
   "outputs": [
    {
     "name": "stdout",
     "output_type": "stream",
     "text": [
      "root\n",
      " |-- r: integer (nullable = true)\n",
      " |-- m (kg): double (nullable = true)\n",
      " |-- Mt: double (nullable = true)\n",
      " |-- Ewltp (g/km): double (nullable = true)\n",
      " |-- Ft: string (nullable = true)\n",
      " |-- Fm: string (nullable = true)\n",
      " |-- ec (cm3): double (nullable = true)\n",
      " |-- ep (KW): double (nullable = true)\n",
      " |-- z (Wh/km): double (nullable = true)\n",
      " |-- Erwltp (g/km): double (nullable = true)\n",
      " |-- Fuel consumption : double (nullable = true)\n",
      " |-- Electric range (km): double (nullable = true)\n",
      "\n"
     ]
    }
   ],
   "source": [
    "df.printSchema()"
   ]
  },
  {
   "cell_type": "code",
   "execution_count": 8,
   "metadata": {
    "execution": {
     "iopub.execute_input": "2024-12-03T12:39:40.121513Z",
     "iopub.status.busy": "2024-12-03T12:39:40.121114Z",
     "iopub.status.idle": "2024-12-03T12:39:58.519224Z",
     "shell.execute_reply": "2024-12-03T12:39:58.518077Z",
     "shell.execute_reply.started": "2024-12-03T12:39:40.121479Z"
    },
    "trusted": true
   },
   "outputs": [
    {
     "name": "stderr",
     "output_type": "stream",
     "text": [
      "[Stage 3:======================================================>  (48 + 2) / 50]\r"
     ]
    },
    {
     "name": "stdout",
     "output_type": "stream",
     "text": [
      "+---+------+------+------------+---+---+--------+-------+---------+-------------+-----------------+-------------------+\n",
      "|  r|m (kg)|    Mt|Ewltp (g/km)| Ft| Fm|ec (cm3)|ep (KW)|z (Wh/km)|Erwltp (g/km)|Fuel consumption |Electric range (km)|\n",
      "+---+------+------+------------+---+---+--------+-------+---------+-------------+-----------------+-------------------+\n",
      "|  0|   425|523557|       20891|  0|  1| 1670374|  35372|  8374652|      4966748|          3183164|            8398594|\n",
      "+---+------+------+------------+---+---+--------+-------+---------+-------------+-----------------+-------------------+\n",
      "\n"
     ]
    },
    {
     "name": "stderr",
     "output_type": "stream",
     "text": [
      "                                                                                \r"
     ]
    }
   ],
   "source": [
    "from pyspark.sql.functions import col, sum\n",
    "\n",
    "# Kiểm tra số lượng giá trị thiếu trong mỗi cột\n",
    "missing_counts = df.select([sum(col(c).isNull().cast(\"int\")).alias(c) for c in df.columns])\n",
    "missing_counts.show()\n"
   ]
  },
  {
   "cell_type": "code",
   "execution_count": 9,
   "metadata": {
    "execution": {
     "iopub.execute_input": "2024-12-03T12:40:18.162737Z",
     "iopub.status.busy": "2024-12-03T12:40:18.162315Z",
     "iopub.status.idle": "2024-12-03T12:40:18.182850Z",
     "shell.execute_reply": "2024-12-03T12:40:18.181653Z",
     "shell.execute_reply.started": "2024-12-03T12:40:18.162698Z"
    },
    "trusted": true
   },
   "outputs": [],
   "source": [
    "df = df.drop('r')"
   ]
  },
  {
   "cell_type": "code",
   "execution_count": 10,
   "metadata": {
    "execution": {
     "iopub.execute_input": "2024-12-03T12:40:21.355410Z",
     "iopub.status.busy": "2024-12-03T12:40:21.354997Z",
     "iopub.status.idle": "2024-12-03T12:40:21.625948Z",
     "shell.execute_reply": "2024-12-03T12:40:21.624790Z",
     "shell.execute_reply.started": "2024-12-03T12:40:21.355373Z"
    },
    "trusted": true
   },
   "outputs": [
    {
     "name": "stdout",
     "output_type": "stream",
     "text": [
      "+------+------+------------+--------+---+--------+-------+---------+-------------+-----------------+-------------------+\n",
      "|m (kg)|    Mt|Ewltp (g/km)|      Ft| Fm|ec (cm3)|ep (KW)|z (Wh/km)|Erwltp (g/km)|Fuel consumption |Electric range (km)|\n",
      "+------+------+------------+--------+---+--------+-------+---------+-------------+-----------------+-------------------+\n",
      "|1337.0|1446.0|       126.0|     lpg|  B|   999.0|   74.0|     NULL|          1.7|              7.8|               NULL|\n",
      "|1670.0|1782.0|       125.0|  petrol|  H|  2487.0|  131.0|     NULL|          0.8|              5.5|               NULL|\n",
      "|2044.0|2187.0|         0.0|electric|  E|    NULL|  221.0|    172.0|         NULL|             NULL|              440.0|\n",
      "|1493.0|1576.0|       135.0|  petrol|  M|  1199.0|   96.0|     NULL|          2.0|              6.0|               NULL|\n",
      "|1649.0|1814.0|       131.0|  petrol|  H|  1598.0|  132.0|     NULL|         0.59|              5.8|               NULL|\n",
      "+------+------+------------+--------+---+--------+-------+---------+-------------+-----------------+-------------------+\n",
      "only showing top 5 rows\n",
      "\n"
     ]
    }
   ],
   "source": [
    "df.show(5)"
   ]
  },
  {
   "cell_type": "code",
   "execution_count": 11,
   "metadata": {
    "execution": {
     "iopub.execute_input": "2024-12-03T12:40:24.580417Z",
     "iopub.status.busy": "2024-12-03T12:40:24.579470Z",
     "iopub.status.idle": "2024-12-03T12:40:27.884542Z",
     "shell.execute_reply": "2024-12-03T12:40:27.883318Z",
     "shell.execute_reply.started": "2024-12-03T12:40:24.580352Z"
    },
    "trusted": true
   },
   "outputs": [
    {
     "name": "stderr",
     "output_type": "stream",
     "text": [
      "[Stage 7:==================================================>      (44 + 4) / 50]\r"
     ]
    },
    {
     "name": "stdout",
     "output_type": "stream",
     "text": [
      "(10734656, 11)\n"
     ]
    },
    {
     "name": "stderr",
     "output_type": "stream",
     "text": [
      "                                                                                \r"
     ]
    }
   ],
   "source": [
    "# Lấy số hàng\n",
    "num_rows = df.count()\n",
    "\n",
    "# Lấy số cột\n",
    "num_columns = len(df.columns)\n",
    "\n",
    "# Hiển thị kết quả giống như df.shape trong Pandas\n",
    "print((num_rows, num_columns))\n"
   ]
  },
  {
   "cell_type": "code",
   "execution_count": 12,
   "metadata": {
    "execution": {
     "iopub.execute_input": "2024-12-03T12:40:30.148076Z",
     "iopub.status.busy": "2024-12-03T12:40:30.147642Z",
     "iopub.status.idle": "2024-12-03T12:40:30.178795Z",
     "shell.execute_reply": "2024-12-03T12:40:30.177645Z",
     "shell.execute_reply.started": "2024-12-03T12:40:30.148040Z"
    },
    "trusted": true
   },
   "outputs": [],
   "source": [
    "# Điền giá trị 0 vào các ô null trong cột 'Electric range (km)'\n",
    "df = df.fillna({'Electric range (km)': 0})\n"
   ]
  },
  {
   "cell_type": "code",
   "execution_count": 13,
   "metadata": {
    "execution": {
     "iopub.execute_input": "2024-12-03T12:40:33.081511Z",
     "iopub.status.busy": "2024-12-03T12:40:33.081126Z",
     "iopub.status.idle": "2024-12-03T12:40:33.306996Z",
     "shell.execute_reply": "2024-12-03T12:40:33.305919Z",
     "shell.execute_reply.started": "2024-12-03T12:40:33.081479Z"
    },
    "trusted": true
   },
   "outputs": [
    {
     "name": "stdout",
     "output_type": "stream",
     "text": [
      "+------+------+------------+--------+---+--------+-------+---------+-------------+-----------------+-------------------+\n",
      "|m (kg)|    Mt|Ewltp (g/km)|      Ft| Fm|ec (cm3)|ep (KW)|z (Wh/km)|Erwltp (g/km)|Fuel consumption |Electric range (km)|\n",
      "+------+------+------------+--------+---+--------+-------+---------+-------------+-----------------+-------------------+\n",
      "|1337.0|1446.0|       126.0|     lpg|  B|   999.0|   74.0|     NULL|          1.7|              7.8|                0.0|\n",
      "|1670.0|1782.0|       125.0|  petrol|  H|  2487.0|  131.0|     NULL|          0.8|              5.5|                0.0|\n",
      "|2044.0|2187.0|         0.0|electric|  E|    NULL|  221.0|    172.0|         NULL|             NULL|              440.0|\n",
      "|1493.0|1576.0|       135.0|  petrol|  M|  1199.0|   96.0|     NULL|          2.0|              6.0|                0.0|\n",
      "|1649.0|1814.0|       131.0|  petrol|  H|  1598.0|  132.0|     NULL|         0.59|              5.8|                0.0|\n",
      "+------+------+------------+--------+---+--------+-------+---------+-------------+-----------------+-------------------+\n",
      "only showing top 5 rows\n",
      "\n"
     ]
    }
   ],
   "source": [
    "df.show(5)"
   ]
  },
  {
   "cell_type": "code",
   "execution_count": 14,
   "metadata": {
    "execution": {
     "iopub.execute_input": "2024-12-03T12:40:36.381338Z",
     "iopub.status.busy": "2024-12-03T12:40:36.380233Z",
     "iopub.status.idle": "2024-12-03T12:40:36.400461Z",
     "shell.execute_reply": "2024-12-03T12:40:36.399183Z",
     "shell.execute_reply.started": "2024-12-03T12:40:36.381295Z"
    },
    "trusted": true
   },
   "outputs": [],
   "source": [
    "# Loại bỏ cột 'z (Wh/km)' khỏi Spark DataFrame\n",
    "df = df.drop('z (Wh/km)')\n"
   ]
  },
  {
   "cell_type": "code",
   "execution_count": 15,
   "metadata": {
    "execution": {
     "iopub.execute_input": "2024-12-03T12:40:40.177797Z",
     "iopub.status.busy": "2024-12-03T12:40:40.177414Z",
     "iopub.status.idle": "2024-12-03T12:40:40.420040Z",
     "shell.execute_reply": "2024-12-03T12:40:40.418995Z",
     "shell.execute_reply.started": "2024-12-03T12:40:40.177764Z"
    },
    "trusted": true
   },
   "outputs": [
    {
     "name": "stdout",
     "output_type": "stream",
     "text": [
      "+------+------+------------+--------+---+--------+-------+-------------+-----------------+-------------------+\n",
      "|m (kg)|    Mt|Ewltp (g/km)|      Ft| Fm|ec (cm3)|ep (KW)|Erwltp (g/km)|Fuel consumption |Electric range (km)|\n",
      "+------+------+------------+--------+---+--------+-------+-------------+-----------------+-------------------+\n",
      "|1337.0|1446.0|       126.0|     lpg|  B|   999.0|   74.0|          1.7|              7.8|                0.0|\n",
      "|1670.0|1782.0|       125.0|  petrol|  H|  2487.0|  131.0|          0.8|              5.5|                0.0|\n",
      "|2044.0|2187.0|         0.0|electric|  E|    NULL|  221.0|         NULL|             NULL|              440.0|\n",
      "|1493.0|1576.0|       135.0|  petrol|  M|  1199.0|   96.0|          2.0|              6.0|                0.0|\n",
      "|1649.0|1814.0|       131.0|  petrol|  H|  1598.0|  132.0|         0.59|              5.8|                0.0|\n",
      "+------+------+------------+--------+---+--------+-------+-------------+-----------------+-------------------+\n",
      "only showing top 5 rows\n",
      "\n"
     ]
    }
   ],
   "source": [
    "df.show(5)"
   ]
  },
  {
   "cell_type": "code",
   "execution_count": 16,
   "metadata": {
    "execution": {
     "iopub.execute_input": "2024-12-03T12:40:43.581032Z",
     "iopub.status.busy": "2024-12-03T12:40:43.580574Z",
     "iopub.status.idle": "2024-12-03T12:40:43.595997Z",
     "shell.execute_reply": "2024-12-03T12:40:43.594496Z",
     "shell.execute_reply.started": "2024-12-03T12:40:43.580995Z"
    },
    "trusted": true
   },
   "outputs": [],
   "source": [
    "df = df.drop('Mt')\n"
   ]
  },
  {
   "cell_type": "code",
   "execution_count": 17,
   "metadata": {
    "execution": {
     "iopub.execute_input": "2024-12-03T12:40:46.087600Z",
     "iopub.status.busy": "2024-12-03T12:40:46.087171Z",
     "iopub.status.idle": "2024-12-03T12:40:46.102772Z",
     "shell.execute_reply": "2024-12-03T12:40:46.101567Z",
     "shell.execute_reply.started": "2024-12-03T12:40:46.087562Z"
    },
    "trusted": true
   },
   "outputs": [],
   "source": [
    "df = df.drop('Ewltp (g/km)')\n"
   ]
  },
  {
   "cell_type": "code",
   "execution_count": 18,
   "metadata": {
    "execution": {
     "iopub.execute_input": "2024-12-03T12:40:48.525392Z",
     "iopub.status.busy": "2024-12-03T12:40:48.525016Z",
     "iopub.status.idle": "2024-12-03T12:40:48.539309Z",
     "shell.execute_reply": "2024-12-03T12:40:48.537934Z",
     "shell.execute_reply.started": "2024-12-03T12:40:48.525360Z"
    },
    "trusted": true
   },
   "outputs": [],
   "source": [
    "df = df.drop('Erwltp (g/km)')\n"
   ]
  },
  {
   "cell_type": "code",
   "execution_count": 19,
   "metadata": {
    "execution": {
     "iopub.execute_input": "2024-12-03T12:40:52.184730Z",
     "iopub.status.busy": "2024-12-03T12:40:52.183927Z",
     "iopub.status.idle": "2024-12-03T12:40:52.406345Z",
     "shell.execute_reply": "2024-12-03T12:40:52.402459Z",
     "shell.execute_reply.started": "2024-12-03T12:40:52.184673Z"
    },
    "trusted": true
   },
   "outputs": [
    {
     "name": "stdout",
     "output_type": "stream",
     "text": [
      "+------+--------+---+--------+-------+-----------------+-------------------+\n",
      "|m (kg)|      Ft| Fm|ec (cm3)|ep (KW)|Fuel consumption |Electric range (km)|\n",
      "+------+--------+---+--------+-------+-----------------+-------------------+\n",
      "|1337.0|     lpg|  B|   999.0|   74.0|              7.8|                0.0|\n",
      "|1670.0|  petrol|  H|  2487.0|  131.0|              5.5|                0.0|\n",
      "|2044.0|electric|  E|    NULL|  221.0|             NULL|              440.0|\n",
      "|1493.0|  petrol|  M|  1199.0|   96.0|              6.0|                0.0|\n",
      "|1649.0|  petrol|  H|  1598.0|  132.0|              5.8|                0.0|\n",
      "+------+--------+---+--------+-------+-----------------+-------------------+\n",
      "only showing top 5 rows\n",
      "\n"
     ]
    }
   ],
   "source": [
    "df.show(5)"
   ]
  },
  {
   "cell_type": "code",
   "execution_count": 20,
   "metadata": {
    "execution": {
     "iopub.execute_input": "2024-12-03T12:40:55.396654Z",
     "iopub.status.busy": "2024-12-03T12:40:55.396282Z",
     "iopub.status.idle": "2024-12-03T12:40:58.507881Z",
     "shell.execute_reply": "2024-12-03T12:40:58.506650Z",
     "shell.execute_reply.started": "2024-12-03T12:40:55.396621Z"
    },
    "trusted": true
   },
   "outputs": [
    {
     "name": "stderr",
     "output_type": "stream",
     "text": [
      "[Stage 13:===============================================>        (42 + 4) / 50]\r"
     ]
    },
    {
     "name": "stdout",
     "output_type": "stream",
     "text": [
      "(10734656, 7)\n"
     ]
    },
    {
     "name": "stderr",
     "output_type": "stream",
     "text": [
      "                                                                                \r"
     ]
    }
   ],
   "source": [
    "# Lấy số hàng\n",
    "num_rows = df.count()\n",
    "\n",
    "# Lấy số cột\n",
    "num_columns = len(df.columns)\n",
    "\n",
    "# Hiển thị kết quả giống như df.shape trong Pandas\n",
    "print((num_rows, num_columns))\n"
   ]
  },
  {
   "cell_type": "code",
   "execution_count": 21,
   "metadata": {
    "execution": {
     "iopub.execute_input": "2024-12-03T12:41:04.909412Z",
     "iopub.status.busy": "2024-12-03T12:41:04.909038Z",
     "iopub.status.idle": "2024-12-03T12:41:19.073221Z",
     "shell.execute_reply": "2024-12-03T12:41:19.070969Z",
     "shell.execute_reply.started": "2024-12-03T12:41:04.909383Z"
    },
    "trusted": true
   },
   "outputs": [
    {
     "name": "stderr",
     "output_type": "stream",
     "text": [
      "[Stage 16:======================================================> (49 + 1) / 50]\r"
     ]
    },
    {
     "name": "stdout",
     "output_type": "stream",
     "text": [
      "+------+---+---+--------+-------+-----------------+-------------------+\n",
      "|m (kg)| Ft| Fm|ec (cm3)|ep (KW)|Fuel consumption |Electric range (km)|\n",
      "+------+---+---+--------+-------+-----------------+-------------------+\n",
      "|   425|  0|  1| 1670374|  35372|          3183164|                  0|\n",
      "+------+---+---+--------+-------+-----------------+-------------------+\n",
      "\n"
     ]
    },
    {
     "name": "stderr",
     "output_type": "stream",
     "text": [
      "                                                                                \r"
     ]
    }
   ],
   "source": [
    "# Kiểm tra số lượng giá trị thiếu trong mỗi cột\n",
    "missing_counts = df.select([sum(col(c).isNull().cast(\"int\")).alias(c) for c in df.columns])\n",
    "missing_counts.show()\n"
   ]
  },
  {
   "cell_type": "code",
   "execution_count": 22,
   "metadata": {
    "execution": {
     "iopub.execute_input": "2024-12-03T12:41:20.848502Z",
     "iopub.status.busy": "2024-12-03T12:41:20.848121Z",
     "iopub.status.idle": "2024-12-03T12:41:20.866509Z",
     "shell.execute_reply": "2024-12-03T12:41:20.865384Z",
     "shell.execute_reply.started": "2024-12-03T12:41:20.848472Z"
    },
    "trusted": true
   },
   "outputs": [],
   "source": [
    "df = df.dropna()\n"
   ]
  },
  {
   "cell_type": "code",
   "execution_count": 23,
   "metadata": {
    "execution": {
     "iopub.execute_input": "2024-12-03T12:41:23.564069Z",
     "iopub.status.busy": "2024-12-03T12:41:23.563635Z",
     "iopub.status.idle": "2024-12-03T12:41:36.760234Z",
     "shell.execute_reply": "2024-12-03T12:41:36.758908Z",
     "shell.execute_reply.started": "2024-12-03T12:41:23.564032Z"
    },
    "trusted": true
   },
   "outputs": [
    {
     "name": "stderr",
     "output_type": "stream",
     "text": [
      "[Stage 19:=====================================================>  (48 + 2) / 50]\r"
     ]
    },
    {
     "name": "stdout",
     "output_type": "stream",
     "text": [
      "(7550972, 7)\n"
     ]
    },
    {
     "name": "stderr",
     "output_type": "stream",
     "text": [
      "                                                                                \r"
     ]
    }
   ],
   "source": [
    "# Lấy số hàng\n",
    "num_rows = df.count()\n",
    "\n",
    "# Lấy số cột\n",
    "num_columns = len(df.columns)\n",
    "\n",
    "# Hiển thị kết quả giống như df.shape trong Pandas\n",
    "print((num_rows, num_columns))"
   ]
  },
  {
   "cell_type": "code",
   "execution_count": 24,
   "metadata": {
    "execution": {
     "iopub.execute_input": "2024-12-03T12:41:50.125739Z",
     "iopub.status.busy": "2024-12-03T12:41:50.125304Z",
     "iopub.status.idle": "2024-12-03T12:41:50.302107Z",
     "shell.execute_reply": "2024-12-03T12:41:50.300961Z",
     "shell.execute_reply.started": "2024-12-03T12:41:50.125699Z"
    },
    "trusted": true
   },
   "outputs": [
    {
     "name": "stdout",
     "output_type": "stream",
     "text": [
      "+------+------+---+--------+-------+-----------------+-------------------+\n",
      "|m (kg)|    Ft| Fm|ec (cm3)|ep (KW)|Fuel consumption |Electric range (km)|\n",
      "+------+------+---+--------+-------+-----------------+-------------------+\n",
      "|1337.0|   lpg|  B|   999.0|   74.0|              7.8|                0.0|\n",
      "|1670.0|petrol|  H|  2487.0|  131.0|              5.5|                0.0|\n",
      "|1493.0|petrol|  M|  1199.0|   96.0|              6.0|                0.0|\n",
      "|1649.0|petrol|  H|  1598.0|  132.0|              5.8|                0.0|\n",
      "|1560.0|petrol|  H|  1987.0|  112.0|              5.2|                0.0|\n",
      "+------+------+---+--------+-------+-----------------+-------------------+\n",
      "only showing top 5 rows\n",
      "\n"
     ]
    }
   ],
   "source": [
    "df.show(5)"
   ]
  },
  {
   "cell_type": "code",
   "execution_count": 25,
   "metadata": {
    "execution": {
     "iopub.execute_input": "2024-12-03T12:41:57.122858Z",
     "iopub.status.busy": "2024-12-03T12:41:57.122455Z",
     "iopub.status.idle": "2024-12-03T12:42:26.453962Z",
     "shell.execute_reply": "2024-12-03T12:42:26.452656Z",
     "shell.execute_reply.started": "2024-12-03T12:41:57.122819Z"
    },
    "trusted": true
   },
   "outputs": [
    {
     "name": "stderr",
     "output_type": "stream",
     "text": [
      "                                                                                \r"
     ]
    },
    {
     "name": "stdout",
     "output_type": "stream",
     "text": [
      "+---------------+\n",
      "|             Ft|\n",
      "+---------------+\n",
      "|         petrol|\n",
      "|             ng|\n",
      "|diesel/electric|\n",
      "|            e85|\n",
      "|            lpg|\n",
      "|petrol/electric|\n",
      "|         diesel|\n",
      "|         DIESEL|\n",
      "|PETROL/ELECTRIC|\n",
      "|         PETROL|\n",
      "|            LPG|\n",
      "+---------------+\n",
      "\n"
     ]
    },
    {
     "name": "stderr",
     "output_type": "stream",
     "text": [
      "[Stage 26:======================================================> (49 + 1) / 50]\r"
     ]
    },
    {
     "name": "stdout",
     "output_type": "stream",
     "text": [
      "+---+\n",
      "| Fm|\n",
      "+---+\n",
      "|  F|\n",
      "|  B|\n",
      "|  P|\n",
      "|  M|\n",
      "|  H|\n",
      "+---+\n",
      "\n"
     ]
    },
    {
     "name": "stderr",
     "output_type": "stream",
     "text": [
      "                                                                                \r"
     ]
    }
   ],
   "source": [
    "# Hiển thị các giá trị unique trong cột 'Ft'\n",
    "df.select(\"Ft\").distinct().show()\n",
    "\n",
    "# Hiển thị các giá trị unique trong cột 'Fm'\n",
    "df.select(\"Fm\").distinct().show()\n"
   ]
  },
  {
   "cell_type": "code",
   "execution_count": 26,
   "metadata": {
    "execution": {
     "iopub.execute_input": "2024-12-03T12:42:35.536515Z",
     "iopub.status.busy": "2024-12-03T12:42:35.536099Z",
     "iopub.status.idle": "2024-12-03T12:42:35.550318Z",
     "shell.execute_reply": "2024-12-03T12:42:35.548994Z",
     "shell.execute_reply.started": "2024-12-03T12:42:35.536478Z"
    },
    "trusted": true
   },
   "outputs": [],
   "source": [
    "# Loại bỏ khoảng trắng thừa trong tên cột \"Fuel consumption \"\n",
    "df = df.withColumnRenamed(\"Fuel consumption \", \"Fuel consumption\")"
   ]
  },
  {
   "cell_type": "code",
   "execution_count": 27,
   "metadata": {
    "execution": {
     "iopub.execute_input": "2024-12-03T12:42:40.463499Z",
     "iopub.status.busy": "2024-12-03T12:42:40.463057Z",
     "iopub.status.idle": "2024-12-03T12:42:57.736411Z",
     "shell.execute_reply": "2024-12-03T12:42:57.735256Z",
     "shell.execute_reply.started": "2024-12-03T12:42:40.463460Z"
    },
    "trusted": true
   },
   "outputs": [
    {
     "name": "stdout",
     "output_type": "stream",
     "text": [
      "Unique values in 'Ft' after normalization:\n"
     ]
    },
    {
     "name": "stderr",
     "output_type": "stream",
     "text": [
      "[Stage 29:======================================================> (49 + 1) / 50]\r"
     ]
    },
    {
     "name": "stdout",
     "output_type": "stream",
     "text": [
      "+---------------+\n",
      "|             Ft|\n",
      "+---------------+\n",
      "|         petrol|\n",
      "|petrol-electric|\n",
      "|             ng|\n",
      "|            e85|\n",
      "|            lpg|\n",
      "|         diesel|\n",
      "|diesel-electric|\n",
      "+---------------+\n",
      "\n"
     ]
    },
    {
     "name": "stderr",
     "output_type": "stream",
     "text": [
      "                                                                                \r"
     ]
    }
   ],
   "source": [
    "from pyspark.sql.functions import lower, regexp_replace\n",
    "# 1. Chuẩn hóa cột 'Ft' về chữ thường và thay dấu gạch chéo bằng dấu gạch ngang\n",
    "df = df.withColumn(\"Ft\", lower(regexp_replace(\"Ft\", \"/\", \"-\")))\n",
    "\n",
    "# Hiển thị các giá trị unique trong cột 'Ft' sau khi chuẩn hóa\n",
    "print(\"Unique values in 'Ft' after normalization:\")\n",
    "df.select(\"Ft\").distinct().show()"
   ]
  },
  {
   "cell_type": "code",
   "execution_count": 28,
   "metadata": {
    "execution": {
     "iopub.execute_input": "2024-12-03T12:43:08.358948Z",
     "iopub.status.busy": "2024-12-03T12:43:08.358385Z",
     "iopub.status.idle": "2024-12-03T12:43:08.710603Z",
     "shell.execute_reply": "2024-12-03T12:43:08.709441Z",
     "shell.execute_reply.started": "2024-12-03T12:43:08.358877Z"
    },
    "trusted": true
   },
   "outputs": [],
   "source": [
    "from pyspark.ml.feature import VectorAssembler, StringIndexer, OneHotEncoder, StandardScaler"
   ]
  },
  {
   "cell_type": "code",
   "execution_count": 29,
   "metadata": {
    "execution": {
     "iopub.execute_input": "2024-12-03T12:43:11.981232Z",
     "iopub.status.busy": "2024-12-03T12:43:11.980168Z",
     "iopub.status.idle": "2024-12-03T12:43:12.042617Z",
     "shell.execute_reply": "2024-12-03T12:43:12.041385Z",
     "shell.execute_reply.started": "2024-12-03T12:43:11.981186Z"
    },
    "trusted": true
   },
   "outputs": [],
   "source": [
    "# Mã hóa cột phân loại\n",
    "indexer_Ft = StringIndexer(inputCol=\"Ft\", outputCol=\"Ft_index\")\n",
    "indexer_Fm = StringIndexer(inputCol=\"Fm\", outputCol=\"Fm_index\")\n",
    "encoder_Ft = OneHotEncoder(inputCol=\"Ft_index\", outputCol=\"Ft_encoded\")\n",
    "encoder_Fm = OneHotEncoder(inputCol=\"Fm_index\", outputCol=\"Fm_encoded\")\n",
    "\n",
    "# Tạo VectorAssembler cho các đặc trưng trước khi scale\n",
    "assembler = VectorAssembler(\n",
    "    inputCols=[\"m (kg)\", \"Ft_encoded\", \"Fm_encoded\", \"ec (cm3)\", \"ep (KW)\", \"Electric range (km)\"],\n",
    "    outputCol=\"assembled_features\"\n",
    ")\n"
   ]
  },
  {
   "cell_type": "code",
   "execution_count": 30,
   "metadata": {
    "execution": {
     "iopub.execute_input": "2024-12-03T12:43:16.649991Z",
     "iopub.status.busy": "2024-12-03T12:43:16.649543Z",
     "iopub.status.idle": "2024-12-03T12:43:16.663716Z",
     "shell.execute_reply": "2024-12-03T12:43:16.662460Z",
     "shell.execute_reply.started": "2024-12-03T12:43:16.649950Z"
    },
    "trusted": true
   },
   "outputs": [],
   "source": [
    "# Chuẩn hóa các đặc trưng số\n",
    "scaler = StandardScaler(inputCol=\"assembled_features\", outputCol=\"features\")"
   ]
  },
  {
   "cell_type": "code",
   "execution_count": 31,
   "metadata": {
    "execution": {
     "iopub.execute_input": "2024-12-03T12:43:20.779141Z",
     "iopub.status.busy": "2024-12-03T12:43:20.778727Z",
     "iopub.status.idle": "2024-12-03T12:43:20.784824Z",
     "shell.execute_reply": "2024-12-03T12:43:20.783393Z",
     "shell.execute_reply.started": "2024-12-03T12:43:20.779099Z"
    },
    "trusted": true
   },
   "outputs": [],
   "source": [
    "from pyspark.ml.regression import LinearRegression, RandomForestRegressor, GBTRegressor\n",
    "from pyspark.ml import Pipeline\n",
    "from pyspark.ml.evaluation import RegressionEvaluator"
   ]
  },
  {
   "cell_type": "code",
   "execution_count": 32,
   "metadata": {
    "execution": {
     "iopub.execute_input": "2024-12-03T12:43:30.659300Z",
     "iopub.status.busy": "2024-12-03T12:43:30.658505Z",
     "iopub.status.idle": "2024-12-03T12:43:30.723122Z",
     "shell.execute_reply": "2024-12-03T12:43:30.721587Z",
     "shell.execute_reply.started": "2024-12-03T12:43:30.659260Z"
    },
    "trusted": true
   },
   "outputs": [],
   "source": [
    "# 1. Mô hình Linear Regression\n",
    "lr = LinearRegression(featuresCol=\"features\", labelCol=\"Fuel consumption\", regParam=0.1)\n",
    "pipeline_lr = Pipeline(stages=[indexer_Ft, indexer_Fm, encoder_Ft, encoder_Fm, assembler, scaler, lr])"
   ]
  },
  {
   "cell_type": "code",
   "execution_count": 33,
   "metadata": {
    "execution": {
     "iopub.execute_input": "2024-12-03T12:43:34.790114Z",
     "iopub.status.busy": "2024-12-03T12:43:34.789704Z",
     "iopub.status.idle": "2024-12-03T12:43:34.819350Z",
     "shell.execute_reply": "2024-12-03T12:43:34.817603Z",
     "shell.execute_reply.started": "2024-12-03T12:43:34.790080Z"
    },
    "trusted": true
   },
   "outputs": [],
   "source": [
    "# 2. Mô hình Random Forest Regressor\n",
    "rf = RandomForestRegressor(featuresCol=\"features\", labelCol=\"Fuel consumption\", numTrees=50, maxDepth=10)  \n",
    "\n",
    "pipeline_rf = Pipeline(stages=[indexer_Ft, indexer_Fm, encoder_Ft, encoder_Fm, assembler, scaler, rf])"
   ]
  },
  {
   "cell_type": "code",
   "execution_count": 34,
   "metadata": {
    "execution": {
     "iopub.execute_input": "2024-12-03T12:43:37.685397Z",
     "iopub.status.busy": "2024-12-03T12:43:37.684938Z",
     "iopub.status.idle": "2024-12-03T12:43:37.709428Z",
     "shell.execute_reply": "2024-12-03T12:43:37.708021Z",
     "shell.execute_reply.started": "2024-12-03T12:43:37.685359Z"
    },
    "trusted": true
   },
   "outputs": [],
   "source": [
    "# 3. Mô hình Gradient Boosting Regressor\n",
    "gbt = GBTRegressor(featuresCol=\"features\", labelCol=\"Fuel consumption\")\n",
    "pipeline_gbt = Pipeline(stages=[indexer_Ft, indexer_Fm, encoder_Ft, encoder_Fm, assembler, scaler, gbt])"
   ]
  },
  {
   "cell_type": "code",
   "execution_count": 36,
   "metadata": {
    "execution": {
     "iopub.execute_input": "2024-12-03T12:44:21.722501Z",
     "iopub.status.busy": "2024-12-03T12:44:21.722077Z",
     "iopub.status.idle": "2024-12-03T12:44:21.754447Z",
     "shell.execute_reply": "2024-12-03T12:44:21.753227Z",
     "shell.execute_reply.started": "2024-12-03T12:44:21.722465Z"
    },
    "trusted": true
   },
   "outputs": [],
   "source": [
    "# Chia dữ liệu thành tập huấn luyện và kiểm tra\n",
    "train_data, test_data = df.randomSplit([0.8, 0.2], seed=1234)\n"
   ]
  },
  {
   "cell_type": "code",
   "execution_count": 36,
   "metadata": {
    "execution": {
     "iopub.execute_input": "2024-12-03T07:09:04.105917Z",
     "iopub.status.busy": "2024-12-03T07:09:04.105520Z",
     "iopub.status.idle": "2024-12-03T07:09:04.111240Z",
     "shell.execute_reply": "2024-12-03T07:09:04.109895Z",
     "shell.execute_reply.started": "2024-12-03T07:09:04.105885Z"
    },
    "trusted": true
   },
   "outputs": [],
   "source": [
    "# # Khởi tạo Linear Regression với giá trị regParam nhỏ\n",
    "# lr = LinearRegression(featuresCol=\"features\", labelCol=\"Fuel consumption\", regParam=0.1)\n",
    "\n",
    "# # Xây dựng pipeline như trước\n",
    "# pipeline_lr = Pipeline(stages=[indexer_Ft, indexer_Fm, encoder_Ft, encoder_Fm, assembler, scaler, lr])\n"
   ]
  },
  {
   "cell_type": "code",
   "execution_count": 38,
   "metadata": {
    "execution": {
     "iopub.execute_input": "2024-12-03T07:09:25.603007Z",
     "iopub.status.busy": "2024-12-03T07:09:25.602456Z",
     "iopub.status.idle": "2024-12-03T07:11:48.889676Z",
     "shell.execute_reply": "2024-12-03T07:11:48.888443Z",
     "shell.execute_reply.started": "2024-12-03T07:09:25.602952Z"
    },
    "trusted": true
   },
   "outputs": [
    {
     "name": "stderr",
     "output_type": "stream",
     "text": [
      "24/12/03 07:10:47 WARN InstanceBuilder: Failed to load implementation from:dev.ludovic.netlib.blas.JNIBLAS\n",
      "24/12/03 07:11:16 WARN InstanceBuilder: Failed to load implementation from:dev.ludovic.netlib.lapack.JNILAPACK\n",
      "                                                                                \r"
     ]
    }
   ],
   "source": [
    "# Huấn luyện và dự đoán với Linear Regression\n",
    "model_lr = pipeline_lr.fit(train_data)\n",
    "predictions_lr = model_lr.transform(test_data)"
   ]
  },
  {
   "cell_type": "code",
   "execution_count": 39,
   "metadata": {
    "execution": {
     "iopub.execute_input": "2024-12-03T07:12:10.603590Z",
     "iopub.status.busy": "2024-12-03T07:12:10.603180Z",
     "iopub.status.idle": "2024-12-03T07:13:38.344817Z",
     "shell.execute_reply": "2024-12-03T07:13:38.343727Z",
     "shell.execute_reply.started": "2024-12-03T07:12:10.603553Z"
    },
    "trusted": true
   },
   "outputs": [
    {
     "name": "stderr",
     "output_type": "stream",
     "text": [
      "[Stage 54:======================================================> (49 + 1) / 50]\r"
     ]
    },
    {
     "name": "stdout",
     "output_type": "stream",
     "text": [
      "Linear Regression - RMSE: 0.642590342562376, MAE: 0.4534623074340169, MSE: 0.41292234835443165, R2: 0.8707315082013685\n"
     ]
    },
    {
     "name": "stderr",
     "output_type": "stream",
     "text": [
      "                                                                                \r"
     ]
    }
   ],
   "source": [
    "from pyspark.ml.evaluation import RegressionEvaluator\n",
    "\n",
    "# Đánh giá các mô hình với các chỉ số: RMSE, MAE, MSE, R2\n",
    "evaluator_rmse = RegressionEvaluator(labelCol=\"Fuel consumption\", predictionCol=\"prediction\", metricName=\"rmse\")\n",
    "evaluator_mae = RegressionEvaluator(labelCol=\"Fuel consumption\", predictionCol=\"prediction\", metricName=\"mae\")\n",
    "evaluator_mse = RegressionEvaluator(labelCol=\"Fuel consumption\", predictionCol=\"prediction\", metricName=\"mse\")\n",
    "evaluator_r2 = RegressionEvaluator(labelCol=\"Fuel consumption\", predictionCol=\"prediction\", metricName=\"r2\")\n",
    "\n",
    "# Đánh giá cho mô hình Linear Regression\n",
    "rmse_lr = evaluator_rmse.evaluate(predictions_lr)\n",
    "mae_lr = evaluator_mae.evaluate(predictions_lr)\n",
    "mse_lr = evaluator_mse.evaluate(predictions_lr)\n",
    "r2_lr = evaluator_r2.evaluate(predictions_lr)\n",
    "\n",
    "# In ra các kết quả đánh giá cho mô hình Linear Regression\n",
    "print(f\"Linear Regression - RMSE: {rmse_lr}, MAE: {mae_lr}, MSE: {mse_lr}, R2: {r2_lr}\")\n"
   ]
  },
  {
   "cell_type": "code",
   "execution_count": 40,
   "metadata": {
    "execution": {
     "iopub.execute_input": "2024-12-02T06:47:55.941427Z",
     "iopub.status.busy": "2024-12-02T06:47:55.940832Z",
     "iopub.status.idle": "2024-12-02T06:58:17.515162Z",
     "shell.execute_reply": "2024-12-02T06:58:17.513417Z",
     "shell.execute_reply.started": "2024-12-02T06:47:55.941368Z"
    },
    "trusted": true
   },
   "outputs": [
    {
     "name": "stderr",
     "output_type": "stream",
     "text": [
      "24/12/02 06:55:45 WARN DAGScheduler: Broadcasting large task binary with size 1326.4 KiB\n",
      "24/12/02 06:56:33 WARN DAGScheduler: Broadcasting large task binary with size 1970.2 KiB\n",
      "24/12/02 06:57:23 WARN DAGScheduler: Broadcasting large task binary with size 2.7 MiB\n",
      "WARNING: An illegal reflective access operation has occurred                    \n",
      "WARNING: Illegal reflective access by org.apache.spark.util.SizeEstimator$ (file:/opt/conda/lib/python3.10/site-packages/pyspark/jars/spark-core_2.12-3.5.3.jar) to field java.nio.charset.Charset.name\n",
      "WARNING: Please consider reporting this to the maintainers of org.apache.spark.util.SizeEstimator$\n",
      "WARNING: Use --illegal-access=warn to enable warnings of further illegal reflective access operations\n",
      "WARNING: All illegal access operations will be denied in a future release\n"
     ]
    }
   ],
   "source": [
    "# Huấn luyện và dự đoán với Random Forest\n",
    "model_rf = pipeline_rf.fit(train_data)\n",
    "predictions_rf = model_rf.transform(test_data)"
   ]
  },
  {
   "cell_type": "code",
   "execution_count": 41,
   "metadata": {
    "execution": {
     "iopub.execute_input": "2024-12-02T06:58:17.517846Z",
     "iopub.status.busy": "2024-12-02T06:58:17.517401Z",
     "iopub.status.idle": "2024-12-02T07:06:04.864648Z",
     "shell.execute_reply": "2024-12-02T07:06:04.862939Z",
     "shell.execute_reply.started": "2024-12-02T06:58:17.517799Z"
    },
    "trusted": true
   },
   "outputs": [
    {
     "name": "stderr",
     "output_type": "stream",
     "text": [
      "                                                                                \r"
     ]
    }
   ],
   "source": [
    "# Huấn luyện và dự đoán với Gradient Boosting\n",
    "model_gbt = pipeline_gbt.fit(train_data)\n",
    "predictions_gbt = model_gbt.transform(test_data)"
   ]
  },
  {
   "cell_type": "code",
   "execution_count": 42,
   "metadata": {
    "execution": {
     "iopub.execute_input": "2024-12-02T07:06:04.866726Z",
     "iopub.status.busy": "2024-12-02T07:06:04.866334Z",
     "iopub.status.idle": "2024-12-02T07:10:10.478261Z",
     "shell.execute_reply": "2024-12-02T07:10:10.476979Z",
     "shell.execute_reply.started": "2024-12-02T07:06:04.866689Z"
    },
    "trusted": true
   },
   "outputs": [
    {
     "name": "stderr",
     "output_type": "stream",
     "text": [
      "                                                                                \r"
     ]
    },
    {
     "name": "stdout",
     "output_type": "stream",
     "text": [
      "Random Forest Regressor - RMSE: 0.459345460385933, MAE: 0.29886178090016313, MSE: 0.21099825197716474, R2: 0.933945387276971\n"
     ]
    },
    {
     "name": "stderr",
     "output_type": "stream",
     "text": [
      "[Stage 313:=====================================================> (49 + 1) / 50]\r"
     ]
    },
    {
     "name": "stdout",
     "output_type": "stream",
     "text": [
      "Gradient Boosting Regressor - RMSE: 0.4395075680133984, MAE: 0.27975731812069365, MSE: 0.19316690234105205, R2: 0.9395276273358593\n"
     ]
    },
    {
     "name": "stderr",
     "output_type": "stream",
     "text": [
      "                                                                                \r"
     ]
    }
   ],
   "source": [
    "# Đánh giá cho mô hình Random Forest\n",
    "rmse_rf = evaluator_rmse.evaluate(predictions_rf)\n",
    "mae_rf = evaluator_mae.evaluate(predictions_rf)\n",
    "mse_rf = evaluator_mse.evaluate(predictions_rf)\n",
    "r2_rf = evaluator_r2.evaluate(predictions_rf)\n",
    "\n",
    "# In kết quả đánh giá cho mô hình Random Forest\n",
    "print(f\"Random Forest Regressor - RMSE: {rmse_rf}, MAE: {mae_rf}, MSE: {mse_rf}, R2: {r2_rf}\")\n",
    "\n",
    "# Đánh giá cho mô hình Gradient Boosting\n",
    "rmse_gbt = evaluator_rmse.evaluate(predictions_gbt)\n",
    "mae_gbt = evaluator_mae.evaluate(predictions_gbt)\n",
    "mse_gbt = evaluator_mse.evaluate(predictions_gbt)\n",
    "r2_gbt = evaluator_r2.evaluate(predictions_gbt)\n",
    "\n",
    "# In kết quả đánh giá cho mô hình Gradient Boosting\n",
    "print(f\"Gradient Boosting Regressor - RMSE: {rmse_gbt}, MAE: {mae_gbt}, MSE: {mse_gbt}, R2: {r2_gbt}\")\n"
   ]
  },
  {
   "cell_type": "code",
   "execution_count": 43,
   "metadata": {
    "execution": {
     "iopub.execute_input": "2024-12-02T07:10:10.480161Z",
     "iopub.status.busy": "2024-12-02T07:10:10.479740Z",
     "iopub.status.idle": "2024-12-02T07:10:10.552882Z",
     "shell.execute_reply": "2024-12-02T07:10:10.551305Z",
     "shell.execute_reply.started": "2024-12-02T07:10:10.480079Z"
    },
    "trusted": true
   },
   "outputs": [
    {
     "name": "stdout",
     "output_type": "stream",
     "text": [
      "Feature importances in Random Forest:\n",
      "ec (cm3): 0.14164604098088543\n",
      "m (kg): 0.08495555765798497\n",
      "Ft_encoded: 0.02741216133899213\n",
      "Fm_encoded: 0.021924811257044943\n",
      "ep (KW): 0.00570934113881092\n",
      "Electric range (km): 0.0004987253843715504\n"
     ]
    }
   ],
   "source": [
    "# Lấy tên các đặc trưng từ các cột đã chọn trong VectorAssembler\n",
    "feature_names = [\"m (kg)\", \"Ft_encoded\", \"Fm_encoded\", \"ec (cm3)\", \"ep (KW)\", \"Electric range (km)\"]\n",
    "\n",
    "# Lấy mức độ quan trọng của các đặc trưng trong Random Forest\n",
    "importances_rf = model_rf.stages[-1].featureImportances\n",
    "\n",
    "# Kết hợp tên đặc trưng với mức độ quan trọng\n",
    "feature_importance_pairs = list(zip(feature_names, importances_rf))\n",
    "\n",
    "# Sắp xếp các đặc trưng theo mức độ quan trọng giảm dần\n",
    "sorted_features_rf = sorted(feature_importance_pairs, key=lambda x: x[1], reverse=True)\n",
    "\n",
    "# Hiển thị các đặc trưng và mức độ quan trọng đã sắp xếp\n",
    "print(\"Feature importances in Random Forest:\")\n",
    "for feature, importance in sorted_features_rf:\n",
    "    print(f\"{feature}: {importance}\")\n"
   ]
  },
  {
   "cell_type": "code",
   "execution_count": 44,
   "metadata": {
    "execution": {
     "iopub.execute_input": "2024-12-02T07:10:10.556006Z",
     "iopub.status.busy": "2024-12-02T07:10:10.554846Z",
     "iopub.status.idle": "2024-12-02T07:10:10.575231Z",
     "shell.execute_reply": "2024-12-02T07:10:10.573440Z",
     "shell.execute_reply.started": "2024-12-02T07:10:10.555941Z"
    },
    "trusted": true
   },
   "outputs": [
    {
     "name": "stdout",
     "output_type": "stream",
     "text": [
      "Feature importances in Gradient Boosting:\n",
      "m (kg): 0.1545350368508505\n",
      "Fm_encoded: 0.059860843372079406\n",
      "Ft_encoded: 0.0071888438628988395\n",
      "Electric range (km): 0.006980139019134383\n",
      "ep (KW): 0.0011479806061374246\n",
      "ec (cm3): 0.0005768130444917685\n"
     ]
    }
   ],
   "source": [
    "# Lấy mức độ quan trọng của các đặc trưng trong Gradient Boosting\n",
    "importances_gbt = model_gbt.stages[-1].featureImportances\n",
    "\n",
    "# Kết hợp tên đặc trưng với mức độ quan trọng\n",
    "feature_importance_pairs_gbt = list(zip(feature_names, importances_gbt))\n",
    "\n",
    "# Sắp xếp các đặc trưng theo mức độ quan trọng giảm dần\n",
    "sorted_features_gbt = sorted(feature_importance_pairs_gbt, key=lambda x: x[1], reverse=True)\n",
    "\n",
    "# Hiển thị các đặc trưng và mức độ quan trọng đã sắp xếp\n",
    "print(\"Feature importances in Gradient Boosting:\")\n",
    "for feature, importance in sorted_features_gbt:\n",
    "    print(f\"{feature}: {importance}\")\n"
   ]
  },
  {
   "cell_type": "code",
   "execution_count": 45,
   "metadata": {
    "execution": {
     "iopub.execute_input": "2024-12-02T07:10:10.577587Z",
     "iopub.status.busy": "2024-12-02T07:10:10.577041Z",
     "iopub.status.idle": "2024-12-02T07:10:10.734993Z",
     "shell.execute_reply": "2024-12-02T07:10:10.732733Z",
     "shell.execute_reply.started": "2024-12-02T07:10:10.577499Z"
    },
    "trusted": true
   },
   "outputs": [
    {
     "name": "stdout",
     "output_type": "stream",
     "text": [
      "Feature coefficients in Linear Regression:\n",
      "ec (cm3): -0.49254603652947726\n",
      "m (kg): 0.463846832505227\n",
      "Ft_encoded: 0.33863534555981156\n",
      "ep (KW): 0.19137058907520393\n",
      "Fm_encoded: -0.15778084968056003\n",
      "Electric range (km): 0.06521368400994926\n"
     ]
    }
   ],
   "source": [
    "# Lấy hệ số của mô hình Linear Regression\n",
    "coefficients_lr = model_lr.stages[-1].coefficients\n",
    "\n",
    "# Kết hợp tên đặc trưng với hệ số\n",
    "feature_coef_pairs = list(zip(feature_names, coefficients_lr))\n",
    "\n",
    "# Sắp xếp các đặc trưng theo hệ số (giá trị tuyệt đối của hệ số)\n",
    "sorted_features_lr = sorted(feature_coef_pairs, key=lambda x: abs(x[1]), reverse=True)\n",
    "\n",
    "# Hiển thị các đặc trưng và hệ số đã sắp xếp\n",
    "print(\"Feature coefficients in Linear Regression:\")\n",
    "for feature, coef in sorted_features_lr:\n",
    "    print(f\"{feature}: {coef}\")\n"
   ]
  },
  {
   "cell_type": "code",
   "execution_count": 47,
   "metadata": {
    "execution": {
     "iopub.execute_input": "2024-12-02T07:13:23.198223Z",
     "iopub.status.busy": "2024-12-02T07:13:23.196547Z",
     "iopub.status.idle": "2024-12-02T08:56:14.511489Z",
     "shell.execute_reply": "2024-12-02T08:56:14.509577Z",
     "shell.execute_reply.started": "2024-12-02T07:13:23.198168Z"
    },
    "trusted": true
   },
   "outputs": [
    {
     "name": "stderr",
     "output_type": "stream",
     "text": [
      "[Stage 2498:====================================================> (49 + 1) / 50]\r"
     ]
    },
    {
     "name": "stdout",
     "output_type": "stream",
     "text": [
      "RMSE after GridSearch: 0.6349936339099485\n",
      "MAE after GridSearch: 0.45106002488739616\n",
      "R2 after GridSearch: 0.8737698681333412\n",
      "Best regParam: 0.0001\n",
      "Best elasticNetParam: 0.0\n",
      "Best maxIter: 10\n",
      "Best tol: 0.0001\n"
     ]
    },
    {
     "name": "stderr",
     "output_type": "stream",
     "text": [
      "                                                                                \r"
     ]
    }
   ],
   "source": [
    "from pyspark.ml.regression import LinearRegression\n",
    "from pyspark.ml.tuning import CrossValidator, ParamGridBuilder\n",
    "from pyspark.ml.evaluation import RegressionEvaluator\n",
    "from pyspark.ml import Pipeline\n",
    "from pyspark.ml.feature import StringIndexer, OneHotEncoder, VectorAssembler, StandardScaler\n",
    "\n",
    "# Tạo đối tượng RegressionEvaluator để đánh giá mô hình\n",
    "evaluator = RegressionEvaluator(labelCol=\"Fuel consumption\", predictionCol=\"prediction\", metricName=\"rmse\")\n",
    "\n",
    "# Mô hình Linear Regression\n",
    "lr = LinearRegression(featuresCol=\"features\", labelCol=\"Fuel consumption\")\n",
    "\n",
    "# Xây dựng ParamGrid để thử nghiệm các tham số của Linear Regression\n",
    "paramGrid = (ParamGridBuilder()\n",
    "             .addGrid(lr.regParam, [0.1, 0.01, 0.001, 0.0001])  # Thử nghiệm với các giá trị nhỏ hơn của regParam\n",
    "             .addGrid(lr.elasticNetParam, [0.0, 0.5, 1.0])  # Thử nghiệm Ridge và Lasso (ElasticNet = 0.0 cho Ridge, 1.0 cho Lasso)\n",
    "             .addGrid(lr.maxIter, [10, 20])  # Tăng số vòng lặp\n",
    "             .addGrid(lr.tol, [1e-6, 1e-4])  # Thử nghiệm với các giá trị khác nhau của tol\n",
    "             .build())\n",
    "\n",
    "# Tạo các bước trong pipeline\n",
    "indexer_Ft = StringIndexer(inputCol=\"Ft\", outputCol=\"Ft_index\")\n",
    "indexer_Fm = StringIndexer(inputCol=\"Fm\", outputCol=\"Fm_index\")\n",
    "encoder_Ft = OneHotEncoder(inputCol=\"Ft_index\", outputCol=\"Ft_encoded\")\n",
    "encoder_Fm = OneHotEncoder(inputCol=\"Fm_index\", outputCol=\"Fm_encoded\")\n",
    "assembler = VectorAssembler(\n",
    "    inputCols=[\"m (kg)\", \"Ft_encoded\", \"Fm_encoded\", \"ec (cm3)\", \"ep (KW)\", \"Electric range (km)\"],\n",
    "    outputCol=\"assembled_features\"\n",
    ")\n",
    "scaler = StandardScaler(inputCol=\"assembled_features\", outputCol=\"features\")\n",
    "\n",
    "# Pipeline cho Linear Regression\n",
    "pipeline_lr = Pipeline(stages=[indexer_Ft, indexer_Fm, encoder_Ft, encoder_Fm, assembler, scaler, lr])\n",
    "\n",
    "# Tạo CrossValidator để thực hiện cross-validation với số lượng folds lớn hơn\n",
    "crossval = CrossValidator(estimator=pipeline_lr, \n",
    "                          estimatorParamMaps=paramGrid, \n",
    "                          evaluator=evaluator, \n",
    "                          numFolds=3)  # Sử dụng 5-fold cross-validation để cải thiện độ chính xác\n",
    "\n",
    "# Huấn luyện mô hình với cross-validation\n",
    "model_cv = crossval.fit(train_data)\n",
    "\n",
    "# Dự đoán với mô hình đã được tinh chỉnh\n",
    "predictions_cv = model_cv.transform(test_data)\n",
    "\n",
    "# Đánh giá mô hình tinh chỉnh\n",
    "rmse_cv = evaluator.evaluate(predictions_cv)\n",
    "mae_cv = RegressionEvaluator(labelCol=\"Fuel consumption\", predictionCol=\"prediction\", metricName=\"mae\").evaluate(predictions_cv)\n",
    "r2_cv = RegressionEvaluator(labelCol=\"Fuel consumption\", predictionCol=\"prediction\", metricName=\"r2\").evaluate(predictions_cv)\n",
    "\n",
    "print(f\"RMSE after GridSearch: {rmse_cv}\")\n",
    "print(f\"MAE after GridSearch: {mae_cv}\")\n",
    "print(f\"R2 after GridSearch: {r2_cv}\")\n",
    "\n",
    "# Kiểm tra tham số tốt nhất\n",
    "best_model = model_cv.bestModel\n",
    "lr_model = best_model.stages[-1]  # Lấy mô hình LinearRegression từ pipeline\n",
    "\n",
    "# Truy xuất tham số tốt nhất\n",
    "print(f\"Best regParam: {lr_model.getRegParam()}\")\n",
    "print(f\"Best elasticNetParam: {lr_model.getElasticNetParam()}\")\n",
    "print(f\"Best maxIter: {lr_model.getMaxIter()}\")\n",
    "print(f\"Best tol: {lr_model.getTol()}\")\n"
   ]
  },
  {
   "cell_type": "code",
   "execution_count": 42,
   "metadata": {
    "execution": {
     "iopub.execute_input": "2024-12-03T07:42:30.158620Z",
     "iopub.status.busy": "2024-12-03T07:42:30.158119Z",
     "iopub.status.idle": "2024-12-03T08:08:52.974119Z",
     "shell.execute_reply": "2024-12-03T08:08:52.972468Z",
     "shell.execute_reply.started": "2024-12-03T07:42:30.158573Z"
    },
    "trusted": true
   },
   "outputs": [
    {
     "name": "stderr",
     "output_type": "stream",
     "text": [
      "24/12/03 07:42:30 WARN CacheManager: Asked to cache already cached data.\n",
      "24/12/03 07:42:30 WARN CacheManager: Asked to cache already cached data.\n",
      "24/12/03 07:42:49 WARN DAGScheduler: Broadcasting large task binary with size 1278.8 KiB\n",
      "24/12/03 07:43:17 WARN DAGScheduler: Broadcasting large task binary with size 1872.7 KiB\n",
      "24/12/03 07:43:48 WARN DAGScheduler: Broadcasting large task binary with size 2.5 MiB\n",
      "24/12/03 07:47:30 WARN DAGScheduler: Broadcasting large task binary with size 1278.9 KiB\n",
      "24/12/03 07:47:56 WARN DAGScheduler: Broadcasting large task binary with size 1872.8 KiB\n",
      "24/12/03 07:48:25 WARN DAGScheduler: Broadcasting large task binary with size 2.5 MiB\n",
      "24/12/03 07:52:32 WARN DAGScheduler: Broadcasting large task binary with size 1298.0 KiB\n",
      "24/12/03 07:52:59 WARN DAGScheduler: Broadcasting large task binary with size 1901.4 KiB\n",
      "24/12/03 07:53:28 WARN DAGScheduler: Broadcasting large task binary with size 2.6 MiB\n",
      "24/12/03 07:54:34 WARN CacheManager: Asked to cache already cached data.        \n",
      "24/12/03 07:54:34 WARN CacheManager: Asked to cache already cached data.\n",
      "24/12/03 07:57:32 WARN DAGScheduler: Broadcasting large task binary with size 1273.4 KiB\n",
      "24/12/03 07:57:58 WARN DAGScheduler: Broadcasting large task binary with size 1873.3 KiB\n",
      "24/12/03 07:58:28 WARN DAGScheduler: Broadcasting large task binary with size 2.5 MiB\n",
      "24/12/03 08:05:20 WARN DAGScheduler: Broadcasting large task binary with size 1322.4 KiB\n",
      "24/12/03 08:05:59 WARN DAGScheduler: Broadcasting large task binary with size 1961.8 KiB\n",
      "24/12/03 08:06:41 WARN DAGScheduler: Broadcasting large task binary with size 2.7 MiB\n",
      "[Stage 488:=====================================================> (49 + 1) / 50]\r"
     ]
    },
    {
     "name": "stdout",
     "output_type": "stream",
     "text": [
      "RMSE after GridSearch for Random Forest: 0.44341813045828027\n",
      "MAE after GridSearch for Random Forest: 0.2941694747987062\n",
      "R2 after GridSearch for Random Forest: 0.9384467219618372\n"
     ]
    },
    {
     "name": "stderr",
     "output_type": "stream",
     "text": [
      "                                                                                \r"
     ]
    },
    {
     "ename": "TypeError",
     "evalue": "'int' object is not callable",
     "output_type": "error",
     "traceback": [
      "\u001b[0;31m---------------------------------------------------------------------------\u001b[0m",
      "\u001b[0;31mTypeError\u001b[0m                                 Traceback (most recent call last)",
      "Cell \u001b[0;32mIn[42], line 60\u001b[0m\n\u001b[1;32m     58\u001b[0m \u001b[38;5;66;03m# Truy xuất tham số từ mô hình RandomForestRegressor\u001b[39;00m\n\u001b[1;32m     59\u001b[0m rf_model \u001b[38;5;241m=\u001b[39m best_model_rf\u001b[38;5;241m.\u001b[39mstages[\u001b[38;5;241m-\u001b[39m\u001b[38;5;241m1\u001b[39m]  \u001b[38;5;66;03m# Lấy mô hình RandomForestRegressor\u001b[39;00m\n\u001b[0;32m---> 60\u001b[0m \u001b[38;5;28mprint\u001b[39m(\u001b[38;5;124mf\u001b[39m\u001b[38;5;124m\"\u001b[39m\u001b[38;5;124mBest numTrees: \u001b[39m\u001b[38;5;132;01m{\u001b[39;00m\u001b[43mrf_model\u001b[49m\u001b[38;5;241;43m.\u001b[39;49m\u001b[43mgetNumTrees\u001b[49m\u001b[43m(\u001b[49m\u001b[43m)\u001b[49m\u001b[38;5;132;01m}\u001b[39;00m\u001b[38;5;124m\"\u001b[39m)\n\u001b[1;32m     61\u001b[0m \u001b[38;5;28mprint\u001b[39m(\u001b[38;5;124mf\u001b[39m\u001b[38;5;124m\"\u001b[39m\u001b[38;5;124mBest maxDepth: \u001b[39m\u001b[38;5;132;01m{\u001b[39;00mrf_model\u001b[38;5;241m.\u001b[39mgetMaxDepth()\u001b[38;5;132;01m}\u001b[39;00m\u001b[38;5;124m\"\u001b[39m)\n\u001b[1;32m     62\u001b[0m \u001b[38;5;28mprint\u001b[39m(\u001b[38;5;124mf\u001b[39m\u001b[38;5;124m\"\u001b[39m\u001b[38;5;124mBest minInstancesPerNode: \u001b[39m\u001b[38;5;132;01m{\u001b[39;00mrf_model\u001b[38;5;241m.\u001b[39mgetMinInstancesPerNode()\u001b[38;5;132;01m}\u001b[39;00m\u001b[38;5;124m\"\u001b[39m)\n",
      "\u001b[0;31mTypeError\u001b[0m: 'int' object is not callable"
     ]
    }
   ],
   "source": [
    "from pyspark.ml.regression import RandomForestRegressor\n",
    "from pyspark.ml.tuning import CrossValidator, ParamGridBuilder\n",
    "from pyspark.ml.evaluation import RegressionEvaluator\n",
    "from pyspark.ml import Pipeline\n",
    "from pyspark.ml.feature import StringIndexer, OneHotEncoder, VectorAssembler, StandardScaler\n",
    "\n",
    "# Tạo đối tượng RegressionEvaluator để đánh giá mô hình\n",
    "evaluator = RegressionEvaluator(labelCol=\"Fuel consumption\", predictionCol=\"prediction\", metricName=\"rmse\")\n",
    "\n",
    "# Mô hình Random Forest Regressor\n",
    "rf = RandomForestRegressor(featuresCol=\"features\", labelCol=\"Fuel consumption\")\n",
    "\n",
    "# Xây dựng ParamGrid cho Random Forest với số lượng tham số rộng hơn và giới hạn độ sâu cây\n",
    "paramGrid_rf = (ParamGridBuilder()\n",
    "                .addGrid(rf.numTrees, [ 50])  # Tăng số lượng cây\n",
    "                .addGrid(rf.maxDepth, [ 10])  # Tăng độ sâu tối đa của cây, có thể giảm độ sâu để tránh overfitting\n",
    "                #.addGrid(rf.minInstancesPerNode, [10])  # Thử nghiệm với các giá trị minInstancesPerNode\n",
    "               #.addGrid(rf.maxBins, [16])  # Thử nghiệm với các giá trị maxBins (giới hạn độ phân giải)\n",
    "                #.addGrid(rf.subsamplingRate, [0.6])  # Thử nghiệm với tỷ lệ mẫu con\n",
    "                .build())\n",
    "\n",
    "# Tạo các bước trong pipeline\n",
    "indexer_Ft = StringIndexer(inputCol=\"Ft\", outputCol=\"Ft_index\")\n",
    "indexer_Fm = StringIndexer(inputCol=\"Fm\", outputCol=\"Fm_index\")\n",
    "encoder_Ft = OneHotEncoder(inputCol=\"Ft_index\", outputCol=\"Ft_encoded\")\n",
    "encoder_Fm = OneHotEncoder(inputCol=\"Fm_index\", outputCol=\"Fm_encoded\")\n",
    "assembler = VectorAssembler(\n",
    "    inputCols=[\"m (kg)\", \"Ft_encoded\", \"Fm_encoded\", \"ec (cm3)\", \"ep (KW)\", \"Electric range (km)\"],\n",
    "    outputCol=\"assembled_features\"\n",
    ")\n",
    "scaler = StandardScaler(inputCol=\"assembled_features\", outputCol=\"features\")\n",
    "\n",
    "# Pipeline cho Random Forest\n",
    "pipeline_rf = Pipeline(stages=[indexer_Ft, indexer_Fm, encoder_Ft, encoder_Fm, assembler, scaler, rf])\n",
    "\n",
    "# Tạo CrossValidator với số lần thử nhiều hơn (numFolds=5)\n",
    "crossval_rf = CrossValidator(estimator=pipeline_rf, \n",
    "                             estimatorParamMaps=paramGrid_rf, \n",
    "                             evaluator=evaluator, \n",
    "                             numFolds=3) \n",
    "# Huấn luyện mô hình Random Forest với cross-validation\n",
    "model_rf = crossval_rf.fit(train_data)\n",
    "\n",
    "# Dự đoán với mô hình đã được tinh chỉnh\n",
    "predictions_rf = model_rf.transform(test_data)\n",
    "\n",
    "# Đánh giá mô hình Random Forest\n",
    "rmse_rf = evaluator.evaluate(predictions_rf)\n",
    "mae_rf = RegressionEvaluator(labelCol=\"Fuel consumption\", predictionCol=\"prediction\", metricName=\"mae\").evaluate(predictions_rf)\n",
    "r2_rf = RegressionEvaluator(labelCol=\"Fuel consumption\", predictionCol=\"prediction\", metricName=\"r2\").evaluate(predictions_rf)\n",
    "\n",
    "print(f\"RMSE after GridSearch for Random Forest: {rmse_rf}\")\n",
    "print(f\"MAE after GridSearch for Random Forest: {mae_rf}\")\n",
    "print(f\"R2 after GridSearch for Random Forest: {r2_rf}\")\n",
    "\n",
    "# Kiểm tra tham số tốt nhất\n",
    "best_model_rf = model_rf.bestModel\n",
    "# Truy xuất tham số từ mô hình RandomForestRegressor\n",
    "rf_model = best_model_rf.stages[-1]  # Lấy mô hình RandomForestRegressor\n",
    "print(f\"Best numTrees: {rf_model.getNumTrees()}\")\n",
    "print(f\"Best maxDepth: {rf_model.getMaxDepth()}\")\n",
    "print(f\"Best minInstancesPerNode: {rf_model.getMinInstancesPerNode()}\")\n",
    "# print(f\"Best maxBins: {rf_model.getMaxBins()}\")\n",
    "# print(f\"Best subsamplingRate: {rf_model.getSubsamplingRate()}\")\n"
   ]
  },
  {
   "cell_type": "code",
   "execution_count": 45,
   "metadata": {
    "execution": {
     "iopub.execute_input": "2024-12-03T08:32:58.133070Z",
     "iopub.status.busy": "2024-12-03T08:32:58.132678Z",
     "iopub.status.idle": "2024-12-03T08:32:58.140880Z",
     "shell.execute_reply": "2024-12-03T08:32:58.139702Z",
     "shell.execute_reply.started": "2024-12-03T08:32:58.133038Z"
    },
    "trusted": true
   },
   "outputs": [
    {
     "name": "stdout",
     "output_type": "stream",
     "text": [
      "Best numTrees: 50\n",
      "Best maxDepth: 10\n",
      "Best minInstancesPerNode: 1\n"
     ]
    }
   ],
   "source": [
    "# Lấy mô hình RandomForestModel đã huấn luyện từ pipeline\n",
    "rf_model = best_model_rf.stages[-1]  # Lấy mô hình RandomForestRegressor\n",
    "\n",
    "# Truy xuất các tham số từ mô hình đã huấn luyện\n",
    "print(f\"Best numTrees: {rf_model._java_obj.getNumTrees()}\")\n",
    "print(f\"Best maxDepth: {rf_model._java_obj.getMaxDepth()}\")\n",
    "print(f\"Best minInstancesPerNode: {rf_model._java_obj.getMinInstancesPerNode()}\")\n"
   ]
  },
  {
   "cell_type": "code",
   "execution_count": 37,
   "metadata": {
    "execution": {
     "iopub.execute_input": "2024-12-03T12:44:43.353040Z",
     "iopub.status.busy": "2024-12-03T12:44:43.352576Z",
     "iopub.status.idle": "2024-12-03T13:12:23.926001Z",
     "shell.execute_reply": "2024-12-03T13:12:23.924663Z",
     "shell.execute_reply.started": "2024-12-03T12:44:43.353000Z"
    },
    "trusted": true
   },
   "outputs": [
    {
     "name": "stderr",
     "output_type": "stream",
     "text": [
      "WARNING: An illegal reflective access operation has occurred                    \n",
      "WARNING: Illegal reflective access by org.apache.spark.util.SizeEstimator$ (file:/opt/conda/lib/python3.10/site-packages/pyspark/jars/spark-core_2.12-3.5.3.jar) to field java.nio.charset.Charset.name\n",
      "WARNING: Please consider reporting this to the maintainers of org.apache.spark.util.SizeEstimator$\n",
      "WARNING: Use --illegal-access=warn to enable warnings of further illegal reflective access operations\n",
      "WARNING: All illegal access operations will be denied in a future release\n",
      "24/12/03 12:47:25 WARN InstanceBuilder: Failed to load implementation from:dev.ludovic.netlib.blas.JNIBLAS\n",
      "[Stage 1573:====================================================> (49 + 1) / 50]\r"
     ]
    },
    {
     "name": "stdout",
     "output_type": "stream",
     "text": [
      "RMSE after GridSearch for GBTRegressor: 0.403885364062183\n",
      "MAE after GridSearch for GBTRegressor: 0.25061303261898626\n",
      "R2 after GridSearch for GBTRegressor: 0.9489329789538877\n",
      "Best maxIter: 20\n",
      "Best maxDepth: 5\n",
      "Best stepSize: 0.2\n"
     ]
    },
    {
     "name": "stderr",
     "output_type": "stream",
     "text": [
      "                                                                                \r"
     ]
    }
   ],
   "source": [
    "from pyspark.ml.regression import GBTRegressor\n",
    "from pyspark.ml.tuning import CrossValidator, ParamGridBuilder\n",
    "from pyspark.ml.evaluation import RegressionEvaluator\n",
    "from pyspark.ml import Pipeline\n",
    "\n",
    "# Tạo đối tượng RegressionEvaluator để đánh giá mô hình\n",
    "evaluator = RegressionEvaluator(labelCol=\"Fuel consumption\", predictionCol=\"prediction\", metricName=\"rmse\")\n",
    "\n",
    "# Mô hình Gradient Boosting Regressor\n",
    "gbt = GBTRegressor(featuresCol=\"features\", labelCol=\"Fuel consumption\")\n",
    "\n",
    "# Xây dựng ParamGrid cho GBT với các tham số ít hơn\n",
    "paramGrid_gbt = (ParamGridBuilder()\n",
    "                 .addGrid(gbt.maxIter, [10, 20])  # Số vòng lặp (iteration)\n",
    "                 .addGrid(gbt.maxDepth, [5])  # Độ sâu tối đa\n",
    "                 .addGrid(gbt.stepSize, [0.1, 0.2])  # Bước đi trong quá trình huấn luyện\n",
    "                 .build())\n",
    "\n",
    "# Tạo các bước trong pipeline\n",
    "indexer_Ft = StringIndexer(inputCol=\"Ft\", outputCol=\"Ft_index\")\n",
    "indexer_Fm = StringIndexer(inputCol=\"Fm\", outputCol=\"Fm_index\")\n",
    "encoder_Ft = OneHotEncoder(inputCol=\"Ft_index\", outputCol=\"Ft_encoded\")\n",
    "encoder_Fm = OneHotEncoder(inputCol=\"Fm_index\", outputCol=\"Fm_encoded\")\n",
    "assembler = VectorAssembler(\n",
    "    inputCols=[\"m (kg)\", \"Ft_encoded\", \"Fm_encoded\", \"ec (cm3)\", \"ep (KW)\", \"Electric range (km)\"],\n",
    "    outputCol=\"assembled_features\"\n",
    ")\n",
    "scaler = StandardScaler(inputCol=\"assembled_features\", outputCol=\"features\")\n",
    "\n",
    "# Pipeline cho Gradient Boosting Regressor\n",
    "pipeline_gbt = Pipeline(stages=[indexer_Ft, indexer_Fm, encoder_Ft, encoder_Fm, assembler, scaler, gbt])\n",
    "\n",
    "# Tạo CrossValidator với số lần thử ít hơn (numFolds=2)\n",
    "crossval_gbt = CrossValidator(estimator=pipeline_gbt, \n",
    "                              estimatorParamMaps=paramGrid_gbt, \n",
    "                              evaluator=evaluator, \n",
    "                              numFolds=2)  \n",
    "\n",
    "# Huấn luyện mô hình Gradient Boosting Regressor với cross-validation\n",
    "model_gbt = crossval_gbt.fit(train_data)\n",
    "\n",
    "# Dự đoán với mô hình đã được tinh chỉnh\n",
    "predictions_gbt = model_gbt.transform(test_data)\n",
    "\n",
    "# Đánh giá mô hình Gradient Boosting Regressor\n",
    "rmse_gbt = evaluator.evaluate(predictions_gbt)\n",
    "mae_gbt = RegressionEvaluator(labelCol=\"Fuel consumption\", predictionCol=\"prediction\", metricName=\"mae\").evaluate(predictions_gbt)\n",
    "r2_gbt = RegressionEvaluator(labelCol=\"Fuel consumption\", predictionCol=\"prediction\", metricName=\"r2\").evaluate(predictions_gbt)\n",
    "\n",
    "print(f\"RMSE after GridSearch for GBTRegressor: {rmse_gbt}\")\n",
    "print(f\"MAE after GridSearch for GBTRegressor: {mae_gbt}\")\n",
    "print(f\"R2 after GridSearch for GBTRegressor: {r2_gbt}\")\n",
    "\n",
    "# Kiểm tra tham số tốt nhất\n",
    "best_model_gbt = model_gbt.bestModel\n",
    "print(f\"Best maxIter: {best_model_gbt.stages[-1].getMaxIter()}\")\n",
    "print(f\"Best maxDepth: {best_model_gbt.stages[-1].getMaxDepth()}\")\n",
    "print(f\"Best stepSize: {best_model_gbt.stages[-1].getStepSize()}\")\n"
   ]
  },
  {
   "cell_type": "code",
   "execution_count": 39,
   "metadata": {
    "execution": {
     "iopub.execute_input": "2024-12-03T13:25:41.592208Z",
     "iopub.status.busy": "2024-12-03T13:25:41.591598Z",
     "iopub.status.idle": "2024-12-03T13:25:45.229782Z",
     "shell.execute_reply": "2024-12-03T13:25:45.228683Z",
     "shell.execute_reply.started": "2024-12-03T13:25:41.592161Z"
    },
    "trusted": true
   },
   "outputs": [
    {
     "name": "stderr",
     "output_type": "stream",
     "text": [
      "                                                                                \r"
     ]
    }
   ],
   "source": [
    "# Lưu mô hình Gradient Boosting đã huấn luyện\n",
    "model_gbt.bestModel.save(\"/kaggle/working/GBTModel\")\n"
   ]
  },
  {
   "cell_type": "code",
   "execution_count": 40,
   "metadata": {
    "execution": {
     "iopub.execute_input": "2024-12-03T13:26:42.420123Z",
     "iopub.status.busy": "2024-12-03T13:26:42.419642Z",
     "iopub.status.idle": "2024-12-03T13:26:42.446146Z",
     "shell.execute_reply": "2024-12-03T13:26:42.444779Z",
     "shell.execute_reply.started": "2024-12-03T13:26:42.420082Z"
    },
    "trusted": true
   },
   "outputs": [
    {
     "data": {
      "text/plain": [
       "'/kaggle/working/GBTModel.zip'"
      ]
     },
     "execution_count": 40,
     "metadata": {},
     "output_type": "execute_result"
    }
   ],
   "source": [
    "import shutil\n",
    "\n",
    "# Nén thư mục mô hình thành file .zip\n",
    "shutil.make_archive('/kaggle/working/GBTModel', 'zip', '/kaggle/working/GBTModel')\n"
   ]
  }
 ],
 "metadata": {
  "kaggle": {
   "accelerator": "none",
   "dataSources": [
    {
     "datasetId": 5293468,
     "sourceId": 8802209,
     "sourceType": "datasetVersion"
    }
   ],
   "dockerImageVersionId": 30786,
   "isGpuEnabled": false,
   "isInternetEnabled": true,
   "language": "python",
   "sourceType": "notebook"
  },
  "kernelspec": {
   "display_name": "Python 3",
   "language": "python",
   "name": "python3"
  },
  "language_info": {
   "codemirror_mode": {
    "name": "ipython",
    "version": 3
   },
   "file_extension": ".py",
   "mimetype": "text/x-python",
   "name": "python",
   "nbconvert_exporter": "python",
   "pygments_lexer": "ipython3",
   "version": "3.10.14"
  }
 },
 "nbformat": 4,
 "nbformat_minor": 4
}
